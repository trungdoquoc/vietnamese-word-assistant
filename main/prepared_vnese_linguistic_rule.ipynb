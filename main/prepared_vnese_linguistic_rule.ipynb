{
 "cells": [
  {
   "cell_type": "code",
   "execution_count": 2,
   "metadata": {},
   "outputs": [],
   "source": [
    "import pandas"
   ]
  },
  {
   "cell_type": "markdown",
   "metadata": {},
   "source": [
    "input = 1 từ length = n\n",
    "-> for tiếng in n:\n",
    "    -> lower-case all letter in tiếng\n",
    "    -> "
   ]
  },
  {
   "cell_type": "code",
   "execution_count": 1,
   "metadata": {},
   "outputs": [],
   "source": [
    "nguyen_am = ['a', 'ă', 'â', 'e', 'ê', 'i', 'u', 'ư', 'o', 'ơ', 'ô', 'y']\n",
    "\n",
    "thanh_dict = {\n",
    "    'sac': ['á', 'ắ', 'ấ', 'é', 'ế', 'í', 'ú', 'ứ', 'ó', 'ớ', 'ố', 'ý'],\n",
    "    'hoi': ['ả', 'ẳ', 'ẩ', 'ẻ', 'ể', 'ỉ', 'ủ', 'ử', 'ỏ', 'ở', 'ổ', 'ỷ'],\n",
    "    'nga': ['ã', 'ẵ', 'ẫ', 'ẽ', 'ễ', 'ĩ', 'ũ', 'ữ', 'õ', 'ỡ', 'ỗ', 'ỹ'],\n",
    "    'nang': ['ạ', 'ặ', 'ậ', 'ẹ', 'ệ', 'ị', 'ụ', 'ự', 'ọ', 'ợ', 'ộ', 'ỵ'],\n",
    "    'huyen': ['à', 'ằ', 'ầ', 'è', 'ề', 'ì', 'ù', 'ừ', 'ò', 'ờ', 'ồ', 'ỳ'],\n",
    "    'ngang': ['a', 'ă', 'â', 'e', 'ê', 'i', 'u', 'ư', 'o', 'ơ', 'ô', 'y']\n",
    "}\n",
    "\n",
    "bang_trac_dict = {\n",
    "    'T': ['sac', 'hoi', 'nga', 'nang'],\n",
    "    'B': ['huyen', 'ngang']\n",
    "}\n",
    "\n",
    "thanh_nguyen_am = {\n",
    "    'a': ['á', 'ả', 'ã', 'ạ', 'à', 'a'],\n",
    "    'ă': ['ắ', 'ẳ', 'ẵ', 'ặ', 'ằ', 'ă'],\n",
    "    'â': ['ấ', 'ẩ', 'ẫ', 'ậ', 'ầ', 'â'],\n",
    "    'e': ['é', 'ẻ', 'ẽ', 'ẹ', 'è', 'e'],\n",
    "    'ê': ['ế', 'ể', 'ễ', 'ệ', 'ề', 'ê'],\n",
    "    'i': ['í', 'ỉ', 'ĩ', 'ị', 'ì', 'i'],\n",
    "    'u': ['ú', 'ủ', 'ũ', 'ụ', 'ù', 'u'],\n",
    "    'ư': ['ứ', 'ử', 'ữ', 'ự', 'ừ', 'ư'],\n",
    "    'o': ['ó', 'ỏ', 'õ', 'ọ', 'ò', 'o'],\n",
    "    'ơ': ['ớ', 'ở', 'õ', 'ợ', 'ờ', 'ơ'],\n",
    "    'ô': ['ố', 'ổ', 'ỗ', 'ộ', 'ồ', 'ô'],\n",
    "    'y': ['ý', 'ỷ', 'ỹ', 'ỵ', 'ỳ', 'y']\n",
    "}"
   ]
  },
  {
   "cell_type": "code",
   "execution_count": 4,
   "metadata": {},
   "outputs": [],
   "source": [
    "nga_list = '1'\n",
    "nga_split = nga_list.split()\n",
    "nga_str = ''\n",
    "for i in nga_split:\n",
    "    w = \"[\" + i + \"'\" + ',' + ' ' \n",
    "    nga_str += w"
   ]
  },
  {
   "cell_type": "code",
   "execution_count": 5,
   "metadata": {},
   "outputs": [],
   "source": [
    "t1_vertical = ['a', 'ă', 'â', 'e', 'ê', 'i', 'o', 'ô', 'ơ', 'u', 'ư']\n",
    "t1_horizontal = ['a', 'c', 'ch', 'e/ê', 'i', 'm', 'n', 'ng', 'nh', 'o/ơ', 'p', 't', 'u', 'y']\n",
    "t1_matrix = [[0, 1, 1, 0, 1, 1, 1, 1, 1, 1, 1, 1, 1, 1],\n",
    "             [0, 1, 0, 0, 0, 1, 1, 1, 0, 0, 1, 1, 0, 0],\n",
    "             [0, 1, 0, 0, 0, 1, 1, 1, 0, 0, 1, 1, 1, 1],\n",
    "             [0, 0, 0, 0, 0, 1, 1, 1, 0, 1, 1, 1, 0, 0],\n",
    "             [0, 0, 1, 0, 0, 1, 1, 0, 1, 0, 1, 1, 1, 0],\n",
    "             [1, 0, 1, 0, 0, 1, 1, 0, 1, 0, 1, 1, 1, 0],\n",
    "             [1, 1, 0, 1, 1, 1, 1, 1, 0, 0, 1, 1, 0, 0],\n",
    "             [0, 1, 0, 0, 1, 1, 1, 1, 0, 0, 1, 1, 0, 0],\n",
    "             [0, 0, 0, 0, 1, 1, 1, 0, 0, 0, 1, 1, 0, 0],\n",
    "             [1, 1, 0, 1, 1, 1, 1, 1, 0, 1, 1, 1, 0, 1],\n",
    "             [1, 1, 0, 0, 1, 0, 0, 1, 0, 0, 0, 1, 1, 0]]\n",
    "\n",
    "t2_vertical = ['iê', 'oa', 'oă', 'uâ', 'uô', 'uya', 'uyê', 'ươ', 'yê']\n",
    "t2_horizontal = ['a', 'c', 'ch', 'i', 'm', 'n', 'ng', 'nh', 'p', 't', 'u', 'y']\n",
    "t2_matrix = [[0, 1, 0, 0, 1, 1, 1, 0, 1, 1, 1, 0],\n",
    "             [0, 0, 1, 1, 0, 1, 1, 1, 0, 1, 0, 1],\n",
    "             [0, 0, 0, 0, 0, 1, 1, 0, 0, 1, 0, 0],\n",
    "             [0, 0, 0, 0, 0, 1, 0, 0, 0, 1, 0, 0],\n",
    "             [0, 1, 0, 1, 1, 1, 1, 0, 0, 1, 0, 0],\n",
    "             [1, 0, 1, 0, 0, 0, 0, 1, 0, 1, 0, 0],\n",
    "             [0, 0, 0, 0, 0, 1, 0, 0, 0, 1, 0, 0],\n",
    "             [0, 1, 0, 1, 1, 1, 1, 0, 1, 1, 1, 0],\n",
    "             [0, 0, 0, 0, 1, 1, 0, 0, 0, 0, 1, 0]]"
   ]
  },
  {
   "cell_type": "code",
   "execution_count": 6,
   "metadata": {},
   "outputs": [
    {
     "name": "stdout",
     "output_type": "stream",
     "text": [
      "    0   1    2   3   4   5   6    7    8   9   10  11  12  13\n",
      "0       ac  ach      ai  am  an  ang  anh  ao  ap  at  au  ay\n",
      "1       ăc               ăm  ăn  ăng           ăp  ăt        \n",
      "2       âc               âm  ân  âng           âp  ât  âu  ây\n",
      "3                        em  en  eng       eo  ep  et        \n",
      "4           êch          êm  ên       ênh      êp  êt  êu    \n",
      "5   ia      ich          im  in       inh      ip  it  iu    \n",
      "6   oa  oc       oe  oi  om  on  ong           op  ot        \n",
      "7       ôc           ôi  ôm  ôn  ông           ôp  ôt        \n",
      "8                    ơi  ơm  ơn                ơp  ơt        \n",
      "9   ua  uc       uê  ui  um  un  ung       uơ  up  ut      uy\n",
      "10  ưa  ưc           ưi          ưng               ưt  ưu    \n"
     ]
    }
   ],
   "source": [
    "t1_complete = []\n",
    "for r in range(len(t1_matrix)):\n",
    "    row = []\n",
    "    for c in range(len(t1_matrix[r])):\n",
    "        if t1_matrix[r][c] == 1:\n",
    "            row.append(t1_vertical[r] + t1_horizontal[c])\n",
    "        else:\n",
    "            row.append('')\n",
    "    t1_complete.append(row)\n",
    "    \n",
    "### Fix some special cases:\n",
    "t1_complete[6][3] = 'oe'\n",
    "t1_complete[9][3] = 'uê'\n",
    "t1_complete[0][9] = 'ao'\n",
    "t1_complete[3][9] = 'eo'\n",
    "t1_complete[9][9] = 'uơ'\n",
    "\n",
    "print(pandas.DataFrame(t1_complete))"
   ]
  },
  {
   "cell_type": "code",
   "execution_count": 7,
   "metadata": {},
   "outputs": [
    {
     "name": "stdout",
     "output_type": "stream",
     "text": [
      "    0    1     2    3    4     5     6     7    8     9    10   11\n",
      "0       iêc             iêm   iên  iêng        iêp   iêt  iêu     \n",
      "1            oach  oai        oan  oang  oanh        oat       oay\n",
      "2                             oăn  oăng              oăt          \n",
      "3                             uân                    uât          \n",
      "4       uôc        uôi  uôm   uôn  uông              uôt          \n",
      "5  uya       uych                        uynh        uyt          \n",
      "6                            uyên                   uyêt          \n",
      "7       ươc        ươi  ươm   ươn  ương        ươp   ươt  ươu     \n",
      "8                       yêm   yên                         yêu     \n"
     ]
    }
   ],
   "source": [
    "t2_complete = []\n",
    "for r in range(len(t2_matrix)):\n",
    "    row = []\n",
    "    for c in range(len(t2_matrix[r])):\n",
    "        if t2_matrix[r][c] == 1:\n",
    "            row.append(t2_vertical[r] + t2_horizontal[c])\n",
    "        else:\n",
    "            row.append('')\n",
    "    t2_complete.append(row)\n",
    "    \n",
    "t2_complete[5][0] = 'uya'\n",
    "t2_complete[5][2] = 'uych'\n",
    "t2_complete[5][7] = 'uynh'\n",
    "t2_complete[5][9] = 'uyt'\n",
    "\n",
    "print(pandas.DataFrame(t2_complete))"
   ]
  }
 ],
 "metadata": {
  "kernelspec": {
   "display_name": "Python 3",
   "language": "python",
   "name": "python3"
  },
  "language_info": {
   "codemirror_mode": {
    "name": "ipython",
    "version": 3
   },
   "file_extension": ".py",
   "mimetype": "text/x-python",
   "name": "python",
   "nbconvert_exporter": "python",
   "pygments_lexer": "ipython3",
   "version": "3.7.7"
  }
 },
 "nbformat": 4,
 "nbformat_minor": 4
}
